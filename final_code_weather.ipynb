{
 "cells": [
  {
   "cell_type": "code",
   "execution_count": 33,
   "metadata": {
    "collapsed": false
   },
   "outputs": [],
   "source": [
    "#!/usr/bin/python\n",
    "#coding=utf-8\n",
    "import numpy as np\n",
    "import pandas as pd\n",
    "from openpyxl import load_workbook\n",
    "from xlrd import open_workbook\n",
    "import csv\n",
    "from csv import reader\n",
    "import re\n",
    "import os\n",
    "from matplotlib import pyplot\n",
    "from matplotlib import style\n",
    "style.use(\"ggplot\")\n",
    "#%matplotlib notebook\n",
    "import sys\n",
    "import operator\n",
    "import datetime\n",
    "import time\n",
    "import matplotlib.pyplot as plt\n",
    "from datetime import timedelta"
   ]
  },
  {
   "cell_type": "code",
   "execution_count": 34,
   "metadata": {
    "collapsed": false
   },
   "outputs": [],
   "source": [
    "def diffdates(d1, d2):\n",
    "    #Date format: %Y-%m-%d %H:%M:%S\n",
    "    return (time.mktime(time.strptime(d2,'%Y-%m-%d %H:%M:%S')) - time.mktime(time.strptime(d1,'%Y-%m-%d %H:%M:%S')))"
   ]
  },
  {
   "cell_type": "code",
   "execution_count": 35,
   "metadata": {
    "collapsed": false,
    "scrolled": false
   },
   "outputs": [],
   "source": [
    "filename1 = 'weather_data.xlsx'\n",
    "df = pd.read_excel(filename1, sheetname='weather_data')\n",
    "#df = df[df.IdentNo.str[-2:] == \"_G\"]"
   ]
  },
  {
   "cell_type": "code",
   "execution_count": 36,
   "metadata": {
    "collapsed": false
   },
   "outputs": [],
   "source": [
    "df = df.values\n",
    "a,b = df.shape"
   ]
  },
  {
   "cell_type": "code",
   "execution_count": 37,
   "metadata": {
    "collapsed": false
   },
   "outputs": [
    {
     "name": "stdout",
     "output_type": "stream",
     "text": [
      "<class 'list'>\n",
      "[[721, 23573, 'Haze', 'haze'], [800, 5594, 'Clear', 'sky is clear'], [802, 1950, 'Clouds', 'scattered clouds'], [801, 1472, 'Clouds', 'few clouds'], [761, 666, 'Dust', 'dust'], [211, 369, 'Thunderstorm', 'thunderstorm'], [803, 750, 'Clouds', 'broken clouds'], [804, 375, 'Clouds', 'overcast clouds'], [500, 839, 'Rain', 'light rain'], [741, 262, 'Fog', 'fog'], [701, 2375, 'Mist', 'mist'], [501, 419, 'Rain', 'moderate rain'], [301, 252, 'Drizzle', 'drizzle'], [711, 3063, 'Smoke', 'smoke']]\n",
      "14\n"
     ]
    }
   ],
   "source": [
    "final_array = []\n",
    "total_size = 0\n",
    "for i in range(a):\n",
    "    if (df[i][6] == 200 or df[i][6] == 201 or df[i][6] == 210 or df[i][6] == 211):\n",
    "        df[i][6] = 211\n",
    "        df[i][7] = 'Thunderstorm'\n",
    "        df[i][8] = 'thunderstorm'\n",
    "        \n",
    "    if (df[i][6] == 503 or df[i][6] == 501 or df[i][6] == 502):\n",
    "        df[i][6] = 501\n",
    "        df[i][7] = 'Rain'\n",
    "        df[i][8] = 'moderate rain'\n",
    "    if (df[i][6] == 300 or df[i][6] == 301):\n",
    "        df[i][6] = 301\n",
    "        df[i][7] = 'Drizzle'\n",
    "        df[i][8] = 'drizzle'\n",
    "    if i == 0:\n",
    "        final_array.append([])\n",
    "        final_array[total_size].append(df[i][6])\n",
    "        final_array[total_size].append(1)\n",
    "        final_array[total_size].append(df[i][7])\n",
    "        final_array[total_size].append(df[i][8])\n",
    "        total_size = 1\n",
    "    else:\n",
    "        size_array = len(final_array)\n",
    "        flag = 0\n",
    "        for j in range(size_array):\n",
    "            if (final_array[j][0] == df[i][6]):\n",
    "                final_array[j][1] += 1\n",
    "                flag = 1\n",
    "                break\n",
    "        if (flag == 1):\n",
    "            continue\n",
    "        final_array.append([])\n",
    "        final_array[total_size].append(df[i][6])\n",
    "        final_array[total_size].append(1)\n",
    "        final_array[total_size].append(df[i][7])\n",
    "        final_array[total_size].append(df[i][8])\n",
    "        total_size += 1\n",
    "print (type(final_array))\n",
    "print (final_array)\n",
    "print (len(final_array))\n",
    "\n",
    "A = np.array(final_array)\n",
    "\n",
    "A1 = A[:,0] # returns the third columm\n",
    "A1 = A1.tolist()\n",
    "A1 = list(map(int, A1))\n",
    "\n",
    "A2 = A[:,1]\n",
    "A2 = A2.tolist()\n",
    "A2 = list(map(int, A2))\n",
    "\n",
    "A3 = A[:,2]\n",
    "A4 = A[:,3]"
   ]
  },
  {
   "cell_type": "code",
   "execution_count": 38,
   "metadata": {
    "collapsed": false
   },
   "outputs": [
    {
     "name": "stderr",
     "output_type": "stream",
     "text": [
      "C:\\Program Files\\Anaconda3\\lib\\site-packages\\matplotlib\\axes\\_axes.py:545: UserWarning: No labelled objects found. Use label='...' kwarg on individual plots.\n",
      "  warnings.warn(\"No labelled objects found. \"\n"
     ]
    },
    {
     "data": {
      "image/png": "[encoded data removed]",
      "text/plain": [
       "<matplotlib.figure.Figure at 0xd7942e8>"
      ]
     },
     "metadata": {},
     "output_type": "display_data"
    }
   ],
   "source": [
    "width = 0.5\n",
    "y_pos = np.arange(len(final_array))\n",
    "fig, ax = plt.subplots(figsize=(20, 10))\n",
    "rects = ax.bar(y_pos, A2, width ,color='r', align='edge' ,alpha=0.5)\n",
    "ax.set_xticks(y_pos + width/2.)\n",
    "ax.set_xticklabels(A1, fontsize=10)\n",
    "ax.set_xlabel('Weather Conditions')\n",
    "ax.set_ylabel('Count')\n",
    "plt.legend()\n",
    "\n",
    "def autolabel(rects,ii):\n",
    "    for rect in rects:\n",
    "        height = rect.get_height()\n",
    "        values = A3[ii]\n",
    "        values1 = A4[ii]\n",
    "        values2 = A2[ii]\n",
    "        ii += 1\n",
    "        '''\n",
    "        ax.text(rect.get_x() + rect.get_width()/2., 1.08*height,\n",
    "                '%s & %s' %(str(values), str(values1)),\n",
    "                ha='center', va='bottom', fontsize=10)\n",
    "        '''\n",
    "        ax.text(rect.get_x() + rect.get_width()/2., 1.08*height,\n",
    "                '%s' %(str(values2)),\n",
    "                ha='center', va='bottom', fontsize=10)\n",
    "autolabel(rects, 0)\n",
    "plt.tight_layout()\n",
    "plt.show()"
   ]
  },
  {
   "cell_type": "code",
   "execution_count": 39,
   "metadata": {
    "collapsed": false
   },
   "outputs": [
    {
     "name": "stdout",
     "output_type": "stream",
     "text": [
      "      0             1                 2      3\n",
      "0   721          Haze              haze  23573\n",
      "1   800         Clear      sky is clear   5594\n",
      "2   802        Clouds  scattered clouds   1950\n",
      "3   801        Clouds        few clouds   1472\n",
      "4   761          Dust              dust    666\n",
      "5   211  Thunderstorm      thunderstorm    369\n",
      "6   803        Clouds     broken clouds    750\n",
      "7   804        Clouds   overcast clouds    375\n",
      "8   500          Rain        light rain    839\n",
      "9   741           Fog               fog    262\n",
      "10  701          Mist              mist   2375\n",
      "11  501          Rain     moderate rain    419\n",
      "12  301       Drizzle           drizzle    252\n",
      "13  711         Smoke             smoke   3063\n"
     ]
    }
   ],
   "source": [
    "A5 = list(zip(A1, A3, A4,A2))\n",
    "df1 = pd.DataFrame(A5)\n",
    "print (df1)"
   ]
  },
  {
   "cell_type": "code",
   "execution_count": 40,
   "metadata": {
    "collapsed": false
   },
   "outputs": [
    {
     "name": "stdout",
     "output_type": "stream",
     "text": [
      "[[1367539200 '2013-05-03 00:00:00 +0000 UTC' 298.15 ..., 721 'Haze' 'haze']\n",
      " [1367542800 '2013-05-03 01:00:00 +0000 UTC' 299.15 ..., 721 'Haze' 'haze']\n",
      " [1367546400 '2013-05-03 02:00:00 +0000 UTC' 303.15 ..., 721 'Haze' 'haze']\n",
      " ..., \n",
      " [1531087200 '2018-07-08 22:00:00 +0000 UTC' 308.15 ..., 721 'Haze' 'haze']\n",
      " [1531090800 '2018-07-08 23:00:00 +0000 UTC' 307.15 ..., 721 'Haze' 'haze']\n",
      " [1531094400 '2018-07-09 00:00:00 +0000 UTC' 307.15 ..., 721 'Haze' 'haze']]\n"
     ]
    }
   ],
   "source": [
    "print (df)"
   ]
  },
  {
   "cell_type": "code",
   "execution_count": 41,
   "metadata": {
    "collapsed": true
   },
   "outputs": [],
   "source": [
    "np.savetxt(\"weather_processed.csv\", df, fmt=\"%s\", delimiter=\",\")\n",
    "#weather_processed.xlsx"
   ]
  },
  {
   "cell_type": "code",
   "execution_count": 42,
   "metadata": {
    "collapsed": false
   },
   "outputs": [
    {
     "name": "stdout",
     "output_type": "stream",
     "text": [
      "               dt              dt_iso    temp  pressure  humidity  wind_speed  \\\n",
      "0      1367539200 2013-05-03 05:30:00  298.15      1005        17           0   \n",
      "1      1367542800 2013-05-03 06:30:00  299.15      1005        24           1   \n",
      "2      1367546400 2013-05-03 07:30:00  303.15      1006         0           1   \n",
      "3      1367550000 2013-05-03 08:30:00  305.15      1006        11           2   \n",
      "4      1367553600 2013-05-03 09:30:00  306.15      1006        10           3   \n",
      "5      1367557200 2013-05-03 10:30:00  307.15      1006         8           4   \n",
      "6      1367560800 2013-05-03 11:30:00  308.15      1006         8           5   \n",
      "7      1367564400 2013-05-03 12:30:00  310.15      1005         6           5   \n",
      "8      1367568000 2013-05-03 13:30:00  310.15      1004         5           4   \n",
      "9      1367571600 2013-05-03 14:30:00  310.15      1004         5           3   \n",
      "10     1367575200 2013-05-03 15:30:00  310.15      1003         5           6   \n",
      "11     1367578800 2013-05-03 16:30:00  310.15      1003        16           3   \n",
      "12     1367586000 2013-05-03 18:30:00  308.15      1004         5           3   \n",
      "13     1367589600 2013-05-03 19:30:00  306.15      1004         7           2   \n",
      "14     1367593200 2013-05-03 20:30:00  305.15      1005         8           2   \n",
      "15     1367596800 2013-05-03 21:30:00  304.15      1005         9           0   \n",
      "16     1367604000 2013-05-03 23:30:00  303.15      1004        12           2   \n",
      "17     1367607600 2013-05-04 00:30:00  302.15      1003        12           2   \n",
      "18     1367611200 2013-05-04 01:30:00  302.15      1003        11           2   \n",
      "19     1367614800 2013-05-04 02:30:00  301.15      1003        13           2   \n",
      "20     1367618400 2013-05-04 03:30:00  298.15      1002        16           0   \n",
      "21     1367622000 2013-05-04 04:30:00  297.15      1002         0           0   \n",
      "22     1367625600 2013-05-04 05:30:00  297.15      1003         0           0   \n",
      "23     1367629200 2013-05-04 06:30:00  299.15      1003        27           0   \n",
      "24     1367632800 2013-05-04 07:30:00  304.15      1004        18           0   \n",
      "25     1367636400 2013-05-04 08:30:00  304.15      1004        16           2   \n",
      "26     1367640000 2013-05-04 09:30:00  306.15      1005         0           2   \n",
      "27     1367647200 2013-05-04 11:30:00  309.15      1004         7           2   \n",
      "28     1367650800 2013-05-04 12:30:00  311.15      1003        16           5   \n",
      "29     1367654400 2013-05-04 13:30:00  311.15      1002         5           3   \n",
      "...           ...                 ...     ...       ...       ...         ...   \n",
      "41929  1530990000 2018-07-08 00:30:00  307.15      1000        41           1   \n",
      "41930  1530993600 2018-07-08 01:30:00  306.15      1000        43           2   \n",
      "41931  1530997200 2018-07-08 02:30:00  305.15       999        49           2   \n",
      "41932  1531000800 2018-07-08 03:30:00  305.15      1000        49           2   \n",
      "41933  1531004400 2018-07-08 04:30:00  305.15       999        49           3   \n",
      "41934  1531008000 2018-07-08 05:30:00  305.15       999        52           3   \n",
      "41935  1531011600 2018-07-08 06:30:00  304.15      1000        55           4   \n",
      "41936  1531015200 2018-07-08 07:30:00  304.15      1000        55           4   \n",
      "41937  1531018800 2018-07-08 08:30:00  305.15      1000        52           4   \n",
      "41938  1531022400 2018-07-08 09:30:00  306.15      1001        49           5   \n",
      "41939  1531026000 2018-07-08 10:30:00  307.15      1001        46           5   \n",
      "41940  1531029600 2018-07-08 11:30:00  310.15      1001        37           5   \n",
      "41941  1531033200 2018-07-08 12:30:00  311.15      1000        35           5   \n",
      "41942  1531036800 2018-07-08 13:30:00  312.15      1000        33           5   \n",
      "41943  1531040400 2018-07-08 14:30:00  313.15       999        29           6   \n",
      "41944  1531044000 2018-07-08 15:30:00  314.15       998        24           4   \n",
      "41945  1531047600 2018-07-08 16:30:00  314.15       997        24           4   \n",
      "41946  1531051200 2018-07-08 17:30:00  315.15       997        23           3   \n",
      "41947  1531054800 2018-07-08 18:30:00  315.15       996        22           3   \n",
      "41948  1531058400 2018-07-08 19:30:00  314.15       996        23           3   \n",
      "41949  1531062000 2018-07-08 20:30:00  313.15       996        26           2   \n",
      "41950  1531065600 2018-07-08 21:30:00  307.15       997        36           1   \n",
      "41951  1531069200 2018-07-08 22:30:00  312.15       997        29           0   \n",
      "41952  1531072800 2018-07-08 23:30:00  310.15       998        35           1   \n",
      "41953  1531076400 2018-07-09 00:30:00  310.15       998        35           1   \n",
      "41954  1531080000 2018-07-09 01:30:00  309.15       998        39           0   \n",
      "41955  1531083600 2018-07-09 02:30:00  309.15       998        39           3   \n",
      "41956  1531087200 2018-07-09 03:30:00  308.15       998        41           2   \n",
      "41957  1531090800 2018-07-09 04:30:00  307.15       998        46           3   \n",
      "41958  1531094400 2018-07-09 05:30:00  307.15       998        46           3   \n",
      "\n",
      "       weather_id weather_main weather_description  \n",
      "0             721         Haze                haze  \n",
      "1             721         Haze                haze  \n",
      "2             721         Haze                haze  \n",
      "3             721         Haze                haze  \n",
      "4             721         Haze                haze  \n",
      "5             800        Clear        sky is clear  \n",
      "6             800        Clear        sky is clear  \n",
      "7             800        Clear        sky is clear  \n",
      "8             800        Clear        sky is clear  \n",
      "9             800        Clear        sky is clear  \n",
      "10            802       Clouds    scattered clouds  \n",
      "11            802       Clouds    scattered clouds  \n",
      "12            721         Haze                haze  \n",
      "13            721         Haze                haze  \n",
      "14            721         Haze                haze  \n",
      "15            721         Haze                haze  \n",
      "16            721         Haze                haze  \n",
      "17            721         Haze                haze  \n",
      "18            721         Haze                haze  \n",
      "19            721         Haze                haze  \n",
      "20            721         Haze                haze  \n",
      "21            721         Haze                haze  \n",
      "22            721         Haze                haze  \n",
      "23            721         Haze                haze  \n",
      "24            721         Haze                haze  \n",
      "25            721         Haze                haze  \n",
      "26            721         Haze                haze  \n",
      "27            800        Clear        sky is clear  \n",
      "28            801       Clouds          few clouds  \n",
      "29            801       Clouds          few clouds  \n",
      "...           ...          ...                 ...  \n",
      "41929         721         Haze                haze  \n",
      "41930         721         Haze                haze  \n",
      "41931         721         Haze                haze  \n",
      "41932         721         Haze                haze  \n",
      "41933         721         Haze                haze  \n",
      "41934         721         Haze                haze  \n",
      "41935         721         Haze                haze  \n",
      "41936         721         Haze                haze  \n",
      "41937         721         Haze                haze  \n",
      "41938         721         Haze                haze  \n",
      "41939         721         Haze                haze  \n",
      "41940         721         Haze                haze  \n",
      "41941         721         Haze                haze  \n",
      "41942         761         Dust                dust  \n",
      "41943         761         Dust                dust  \n",
      "41944         721         Haze                haze  \n",
      "41945         721         Haze                haze  \n",
      "41946         721         Haze                haze  \n",
      "41947         721         Haze                haze  \n",
      "41948         721         Haze                haze  \n",
      "41949         721         Haze                haze  \n",
      "41950         721         Haze                haze  \n",
      "41951         721         Haze                haze  \n",
      "41952         721         Haze                haze  \n",
      "41953         721         Haze                haze  \n",
      "41954         721         Haze                haze  \n",
      "41955         721         Haze                haze  \n",
      "41956         721         Haze                haze  \n",
      "41957         721         Haze                haze  \n",
      "41958         721         Haze                haze  \n",
      "\n",
      "[41959 rows x 9 columns]\n"
     ]
    }
   ],
   "source": [
    "filename2 = 'weather_processed.xlsx'\n",
    "df = pd.read_excel(filename2, sheetname='weather_processed')\n",
    "df['dt_iso'] = df['dt_iso'].astype(str).str[:-10]\n",
    "df['dt_iso'] = pd.to_datetime(df['dt_iso'])\n",
    "df['dt_iso'] = df['dt_iso'] + timedelta(hours=5, minutes=30)\n",
    "print (df)\n",
    "filepath = 'weather_processed_corrected.xlsx'\n",
    "df.to_excel(filepath, index=False)"
   ]
  },
  {
   "cell_type": "code",
   "execution_count": null,
   "metadata": {
    "collapsed": true
   },
   "outputs": [],
   "source": []
  }
 ],
 "metadata": {
  "kernelspec": {
   "display_name": "Python 3",
   "language": "python",
   "name": "python3"
  },
  "language_info": {
   "codemirror_mode": {
    "name": "ipython",
    "version": 3
   },
   "file_extension": ".py",
   "mimetype": "text/x-python",
   "name": "python",
   "nbconvert_exporter": "python",
   "pygments_lexer": "ipython3",
   "version": "3.6.0"
  }
 },
 "nbformat": 4,
 "nbformat_minor": 2
}
