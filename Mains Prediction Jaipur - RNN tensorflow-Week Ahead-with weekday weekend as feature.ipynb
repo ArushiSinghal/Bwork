{
 "cells": [
  {
   "cell_type": "code",
   "execution_count": 1,
   "metadata": {},
   "outputs": [],
   "source": [
    "#############################################################################################################################\n",
    "#File Name: MainsPrediction.py \n",
    "#Date of creation : 04.04.2018\n",
    "#Author Name : Ashish Rao Mangalore \n",
    "#Organisation : RBEI\n",
    "#Description : This programs tries to predict the output of the mains using an RNN\n",
    "#       \n",
    "#Python Version: 3.5\n",
    "#Modified On : \n",
    "#Modified by : Ashish Rao Mangalore\n",
    "#Copyright :\n",
    "##############################################################################################################################"
   ]
  },
  {
   "cell_type": "code",
   "execution_count": 2,
   "metadata": {},
   "outputs": [],
   "source": [
    "import sqlite3\n",
    "import sklearn\n",
    "import pandas as pd\n",
    "import numpy as np\n",
    "import tensorflow as tf\n",
    "import matplotlib.pyplot as plt\n",
    "from sklearn.cluster import KMeans\n",
    "from sklearn import preprocessing\n",
    "from matplotlib import style\n",
    "%matplotlib notebook\n",
    "import matplotlib.pyplot as plt\n",
    "style.use(\"ggplot\")"
   ]
  },
  {
   "cell_type": "code",
   "execution_count": 3,
   "metadata": {},
   "outputs": [
    {
     "data": {
      "application/javascript": [
       "IPython.OutputArea.prototype._should_scroll = function(lines) {\n",
       "    return false;\n",
       "}"
      ],
      "text/plain": [
       "<IPython.core.display.Javascript object>"
      ]
     },
     "metadata": {},
     "output_type": "display_data"
    }
   ],
   "source": [
    "%%javascript\n",
    "IPython.OutputArea.prototype._should_scroll = function(lines) {\n",
    "    return false;\n",
    "}"
   ]
  },
  {
   "cell_type": "code",
   "execution_count": 4,
   "metadata": {},
   "outputs": [],
   "source": [
    "######################################################################################################################\n",
    "#Name         : read_dataframe_from_database\n",
    "#Description  : Read ACTIVEPOWER of the meter_ids given from the database specified and  \n",
    "#               create a consistent dataframe with time as the index. \n",
    "#Parameters   : database_name <str> - path of the database , meter_ids <dictionary> - Meter id with name of the meter \n",
    "#Return Values: power_df_dict <dictionary> - dictionary of dataframes for each meter_id\n",
    "#######################################################################################################################\n",
    "def read_dataframe_from_database(database_name, meter_ids):\n",
    "    \n",
    "    conn = sqlite3.connect(database_name)\n",
    "    meter_df_dict = dict()\n",
    "    info_df_dict = dict()\n",
    "    for meter_id, name in meter_ids.items():\n",
    "        #sql qeury where all the colums are selected and the elements of the table are ordered by time\n",
    "        df = pd.read_sql(\"SELECT TIME, ACTIVEPOWER, REALTIME_E FROM RS485SAMPLES WHERE meter_id = \" + meter_id + \" ORDER BY time\" , conn)\n",
    "        \n",
    "        info_df_dict[meter_id] = pd.DataFrame()\n",
    "        info_df_dict[meter_id]= df\n",
    "        info_df_dict[meter_id] = info_df_dict[meter_id][info_df_dict[meter_id]['TIME'] != \"\"]    # Drop all data entries without time field\n",
    "        info_df_dict[meter_id]['TIME'] = info_df_dict[meter_id]['TIME'].values.astype('<M8[m]')   #Time Index truncated to minutewise accuracies only \n",
    "        info_df_dict[meter_id]['TIME'] = pd.to_datetime(info_df_dict[meter_id]['TIME'])\n",
    "        info_df_dict[meter_id] = info_df_dict[meter_id].set_index('TIME') \n",
    "        info_df_dict[meter_id] = info_df_dict[meter_id][~info_df_dict[meter_id].index.duplicated(keep='first')]\n",
    "        \n",
    "    return info_df_dict\n",
    "            "
   ]
  },
  {
   "cell_type": "code",
   "execution_count": 5,
   "metadata": {},
   "outputs": [],
   "source": [
    "######################################################################################################################\n",
    "#Name         : make_dict_of_meter_ids\n",
    "#Description  : concatenate n dictionaries of meter ids to make a new dictionary of meter ids containing all \n",
    "#               the elements of the meter ids\n",
    "#Parameters   : *meter_ids <list> - List of dictionaries of meter_ids. \n",
    "#Return Values: meter_id_dict <dictionary> - dictionary of each meter_ids.\n",
    "#######################################################################################################################\n",
    "def make_dict_of_meter_ids(*meter_ids):\n",
    "    print (meter_ids)\n",
    "    meter_id_dict = dict()\n",
    "    for meter in meter_ids:\n",
    "        print (\"Inside\")\n",
    "        print (meter)\n",
    "        meter_id_dict.update(meter)\n",
    "    print (meter_id_dict)\n",
    "    return meter_id_dict "
   ]
  },
  {
   "cell_type": "code",
   "execution_count": 6,
   "metadata": {},
   "outputs": [],
   "source": [
    "######################################################################################################################\n",
    "#Name         : concatenate_power_dictionaries\n",
    "#Description  : The input contains a list of  dictionaries of power data frames. Each dictionary comes from a different \n",
    "#               database. The objective is to concatenate these dictionaries and form a single dictionary\n",
    "#Parameters   : *power_dicts <list> - List of dictionaries of power data frames \n",
    "#Return Values: combined_power_dict <dictionary> - dictionary of all the power dataframes required by the program.\n",
    "#######################################################################################################################\n",
    "def concatenate_power_dictionaries(*power_dicts):\n",
    "    combined_power_dict = {}\n",
    "    for power_dict in power_dicts:\n",
    "        combined_power_dict.update(power_dict)\n",
    "    return combined_power_dict"
   ]
  },
  {
   "cell_type": "code",
   "execution_count": 7,
   "metadata": {},
   "outputs": [],
   "source": [
    "# dictionary of the type {'meter_id':'Name of the compressor'}\n",
    "meter_ids_1 = {'3':'33 KV Mains 1'}        "
   ]
  },
  {
   "cell_type": "code",
   "execution_count": 8,
   "metadata": {
    "scrolled": true
   },
   "outputs": [
    {
     "name": "stderr",
     "output_type": "stream",
     "text": [
      "/home/bosch/anaconda3/envs/my_env/lib/python3.6/site-packages/ipykernel_launcher.py:20: SettingWithCopyWarning: \n",
      "A value is trying to be set on a copy of a slice from a DataFrame.\n",
      "Try using .loc[row_indexer,col_indexer] = value instead\n",
      "\n",
      "See the caveats in the documentation: http://pandas.pydata.org/pandas-docs/stable/indexing.html#indexing-view-versus-copy\n",
      "/home/bosch/anaconda3/envs/my_env/lib/python3.6/site-packages/ipykernel_launcher.py:21: SettingWithCopyWarning: \n",
      "A value is trying to be set on a copy of a slice from a DataFrame.\n",
      "Try using .loc[row_indexer,col_indexer] = value instead\n",
      "\n",
      "See the caveats in the documentation: http://pandas.pydata.org/pandas-docs/stable/indexing.html#indexing-view-versus-copy\n"
     ]
    },
    {
     "data": {
      "text/plain": [
       "{'3':                      ACTIVEPOWER   REALTIME_E\n",
       " TIME                                         \n",
       " 2017-01-27 12:39:00          0.0          0.0\n",
       " 2017-01-27 12:46:00          0.0          0.0\n",
       " 2018-01-24 14:08:00          0.0          0.0\n",
       " 2018-01-24 14:09:00          0.0          0.0\n",
       " 2018-01-24 14:10:00          0.0          0.0\n",
       " 2018-01-24 14:11:00          0.0          0.0\n",
       " 2018-01-24 14:12:00          0.0          0.0\n",
       " 2018-01-24 14:13:00          0.0          0.0\n",
       " 2018-01-24 14:14:00          0.0          0.0\n",
       " 2018-01-24 14:15:00          0.0          0.0\n",
       " 2018-01-24 14:16:00          0.0          0.0\n",
       " 2018-01-24 14:17:00          0.0          0.0\n",
       " 2018-01-24 14:18:00          0.0          0.0\n",
       " 2018-01-24 14:19:00          0.0          0.0\n",
       " 2018-01-24 14:20:00          0.0          0.0\n",
       " 2018-01-24 14:21:00          0.0          0.0\n",
       " 2018-01-24 14:22:00          0.0          0.0\n",
       " 2018-01-24 14:23:00          0.0          0.0\n",
       " 2018-01-24 14:24:00          0.0          0.0\n",
       " 2018-01-24 14:25:00          0.0          0.0\n",
       " 2018-01-24 14:26:00          0.0          0.0\n",
       " 2018-01-24 14:27:00          0.0          0.0\n",
       " 2018-01-24 14:28:00          0.0          0.0\n",
       " 2018-01-24 14:29:00          0.0          0.0\n",
       " 2018-01-24 14:30:00          0.0          0.0\n",
       " 2018-01-24 14:31:00          0.0          0.0\n",
       " 2018-01-24 14:32:00          0.0          0.0\n",
       " 2018-01-24 14:33:00          0.0          0.0\n",
       " 2018-01-24 14:34:00          0.0          0.0\n",
       " 2018-01-24 14:35:00          0.0          0.0\n",
       " ...                          ...          ...\n",
       " 2018-04-05 08:39:00    2465000.0  162161505.0\n",
       " 2018-04-05 08:40:00    2447000.0  162201837.0\n",
       " 2018-04-05 08:41:00    2476000.0  162243907.0\n",
       " 2018-04-05 08:42:00    2502000.0  162285319.0\n",
       " 2018-04-05 08:43:00    2449000.0  162326663.0\n",
       " 2018-04-05 08:44:00    2487000.0  162367499.0\n",
       " 2018-04-05 08:45:00    2541000.0  162409490.0\n",
       " 2018-04-05 08:46:00    2472000.0  162451015.0\n",
       " 2018-04-05 08:47:00    2573000.0  162493475.0\n",
       " 2018-04-05 08:48:00    2654000.0  162536431.0\n",
       " 2018-04-05 08:49:00    2599000.0  162579723.0\n",
       " 2018-04-05 08:50:00    2579000.0  162623006.0\n",
       " 2018-04-05 08:51:00    2591000.0  162666971.0\n",
       " 2018-04-05 08:52:00    2588000.0  162709887.0\n",
       " 2018-04-05 08:53:00    2480000.0  162752168.0\n",
       " 2018-04-05 08:54:00    2511000.0  162793735.0\n",
       " 2018-04-05 08:55:00    2493000.0  162835942.0\n",
       " 2018-04-05 08:56:00    2562000.0  162878384.0\n",
       " 2018-04-05 08:57:00    2625000.0  162921804.0\n",
       " 2018-04-05 08:58:00    2509000.0  162964307.0\n",
       " 2018-04-05 08:59:00    2593000.0  163007759.0\n",
       " 2018-04-05 09:00:00    2522000.0  163051292.0\n",
       " 2018-04-05 09:01:00    2570000.0  163093933.0\n",
       " 2018-04-05 09:02:00    2598000.0  163137450.0\n",
       " 2018-04-05 09:03:00    2653000.0  163181362.0\n",
       " 2018-04-05 09:04:00    2615000.0  163225813.0\n",
       " 2018-04-05 09:05:00    2616000.0  163268821.0\n",
       " 2018-04-05 09:06:00    2576000.0  163312359.0\n",
       " 2018-04-05 09:07:00    2494000.0  163354603.0\n",
       " 2018-04-05 09:08:00    2444000.0  163396535.0\n",
       " \n",
       " [88735 rows x 2 columns]}"
      ]
     },
     "execution_count": 8,
     "metadata": {},
     "output_type": "execute_result"
    }
   ],
   "source": [
    "mains_df_dict_1 = read_dataframe_from_database('/home/bosch/simran/JaP_mains.db', meter_ids_1)\n",
    "mains_df_dict_1"
   ]
  },
  {
   "cell_type": "code",
   "execution_count": 14,
   "metadata": {},
   "outputs": [
    {
     "name": "stdout",
     "output_type": "stream",
     "text": [
      "({'3': '33 KV Mains 1'},)\n",
      "Inside\n",
      "{'3': '33 KV Mains 1'}\n",
      "{'3': '33 KV Mains 1'}\n",
      "In\n",
      "{'3': '33 KV Mains 1'}\n",
      "Out\n",
      "88735\n"
     ]
    }
   ],
   "source": [
    "meter_ids = make_dict_of_meter_ids(meter_ids_1)\n",
    "print (\"In\")\n",
    "print (meter_ids)\n",
    "print (\"Out\")\n",
    "meter_ids\n",
    "mains_df_dict = concatenate_power_dictionaries(mains_df_dict_1)\n",
    "mains_df_dict\n",
    "print(len(mains_df_dict['3']))"
   ]
  },
  {
   "cell_type": "code",
   "execution_count": 15,
   "metadata": {},
   "outputs": [],
   "source": [
    "def clean_dataframes_dict(info_df_dict, start_date):\n",
    "    for meter,info_df in info_df_dict.items():\n",
    "        info_df_dict[meter] = info_df[start_date: ]\n",
    "        info_df_dict[meter] = info_df_dict[meter][(info_df_dict[meter]['ACTIVEPOWER'] < 3000000) & (info_df_dict[meter]['ACTIVEPOWER'] > 10000)]\n",
    "        info_df_dict[meter] = info_df_dict[meter][info_df_dict[meter]['REALTIME_E'] < 20000000000]\n",
    "        info_df_dict[meter]['del_E'] = info_df_dict[meter]['REALTIME_E'] - info_df_dict[meter]['REALTIME_E'].shift(1)\n",
    "        info_df_dict[meter] = info_df_dict[meter].iloc[1:]\n",
    "        info_df_dict[meter] = info_df_dict[meter][(info_df_dict[meter]['del_E'] > 0) & (info_df_dict[meter]['del_E'] < 300000 )]\n",
    "    return info_df_dict"
   ]
  },
  {
   "cell_type": "code",
   "execution_count": 11,
   "metadata": {},
   "outputs": [
    {
     "name": "stdout",
     "output_type": "stream",
     "text": [
      "{'3':                      ACTIVEPOWER   REALTIME_E    del_E\n",
      "TIME                                                  \n",
      "2018-03-05 00:01:00    1319000.0   85051202.0  22474.0\n",
      "2018-03-05 00:02:00    1293000.0   85073303.0  22101.0\n",
      "2018-03-05 00:03:00    1353000.0   85094652.0  21349.0\n",
      "2018-03-05 00:04:00    1355000.0   85117560.0  22908.0\n",
      "2018-03-05 00:05:00    1382000.0   85139929.0  22369.0\n",
      "2018-03-05 00:06:00    1328000.0   85161735.0  21806.0\n",
      "2018-03-05 00:07:00    1374000.0   85184586.0  22851.0\n",
      "2018-03-05 00:08:00    1292000.0   85206949.0  22363.0\n",
      "2018-03-05 00:09:00    1330000.0   85228771.0  21822.0\n",
      "2018-03-05 00:10:00    1330000.0   85250777.0  22006.0\n",
      "2018-03-05 00:11:00    1347000.0   85274045.0  23268.0\n",
      "2018-03-05 00:12:00    1364000.0   85296671.0  22626.0\n",
      "2018-03-05 00:13:00    1372000.0   85319784.0  23113.0\n",
      "2018-03-05 00:14:00    1444000.0   85342733.0  22949.0\n",
      "2018-03-05 00:15:00    1324000.0   85365227.0  22494.0\n",
      "2018-03-05 00:16:00    1310000.0   85387332.0  22105.0\n",
      "2018-03-05 00:17:00    1313000.0   85409433.0  22101.0\n",
      "2018-03-05 00:18:00    1412000.0   85432543.0  23110.0\n",
      "2018-03-05 00:19:00    1390000.0   85455459.0  22916.0\n",
      "2018-03-05 00:20:00    1397000.0   85479450.0  23991.0\n",
      "2018-03-05 00:21:00    1418000.0   85502766.0  23316.0\n",
      "2018-03-05 00:22:00    1323000.0   85526003.0  23237.0\n",
      "2018-03-05 00:23:00    1358000.0   85548658.0  22655.0\n",
      "2018-03-05 00:24:00    1314000.0   85570585.0  21927.0\n",
      "2018-03-05 00:25:00    1305000.0   85593308.0  22723.0\n",
      "2018-03-05 00:26:00    1304000.0   85615013.0  21705.0\n",
      "2018-03-05 00:27:00    1280000.0   85636401.0  21388.0\n",
      "2018-03-05 00:28:00    1361000.0   85658264.0  21863.0\n",
      "2018-03-05 00:29:00    1325000.0   85680178.0  21914.0\n",
      "2018-03-05 00:30:00    1362000.0   85702826.0  22648.0\n",
      "...                          ...          ...      ...\n",
      "2018-04-05 08:39:00    2465000.0  162161505.0  40868.0\n",
      "2018-04-05 08:40:00    2447000.0  162201837.0  40332.0\n",
      "2018-04-05 08:41:00    2476000.0  162243907.0  42070.0\n",
      "2018-04-05 08:42:00    2502000.0  162285319.0  41412.0\n",
      "2018-04-05 08:43:00    2449000.0  162326663.0  41344.0\n",
      "2018-04-05 08:44:00    2487000.0  162367499.0  40836.0\n",
      "2018-04-05 08:45:00    2541000.0  162409490.0  41991.0\n",
      "2018-04-05 08:46:00    2472000.0  162451015.0  41525.0\n",
      "2018-04-05 08:47:00    2573000.0  162493475.0  42460.0\n",
      "2018-04-05 08:48:00    2654000.0  162536431.0  42956.0\n",
      "2018-04-05 08:49:00    2599000.0  162579723.0  43292.0\n",
      "2018-04-05 08:50:00    2579000.0  162623006.0  43283.0\n",
      "2018-04-05 08:51:00    2591000.0  162666971.0  43965.0\n",
      "2018-04-05 08:52:00    2588000.0  162709887.0  42916.0\n",
      "2018-04-05 08:53:00    2480000.0  162752168.0  42281.0\n",
      "2018-04-05 08:54:00    2511000.0  162793735.0  41567.0\n",
      "2018-04-05 08:55:00    2493000.0  162835942.0  42207.0\n",
      "2018-04-05 08:56:00    2562000.0  162878384.0  42442.0\n",
      "2018-04-05 08:57:00    2625000.0  162921804.0  43420.0\n",
      "2018-04-05 08:58:00    2509000.0  162964307.0  42503.0\n",
      "2018-04-05 08:59:00    2593000.0  163007759.0  43452.0\n",
      "2018-04-05 09:00:00    2522000.0  163051292.0  43533.0\n",
      "2018-04-05 09:01:00    2570000.0  163093933.0  42641.0\n",
      "2018-04-05 09:02:00    2598000.0  163137450.0  43517.0\n",
      "2018-04-05 09:03:00    2653000.0  163181362.0  43912.0\n",
      "2018-04-05 09:04:00    2615000.0  163225813.0  44451.0\n",
      "2018-04-05 09:05:00    2616000.0  163268821.0  43008.0\n",
      "2018-04-05 09:06:00    2576000.0  163312359.0  43538.0\n",
      "2018-04-05 09:07:00    2494000.0  163354603.0  42244.0\n",
      "2018-04-05 09:08:00    2444000.0  163396535.0  41932.0\n",
      "\n",
      "[44346 rows x 3 columns]}\n",
      "44346\n"
     ]
    }
   ],
   "source": [
    "mains_df_dict_c = clean_dataframes_dict(mains_df_dict, '2018-03-05 00:00:00')\n",
    "print (mains_df_dict_c)\n",
    "print(len(mains_df_dict_c['3']))"
   ]
  },
  {
   "cell_type": "code",
   "execution_count": 12,
   "metadata": {},
   "outputs": [],
   "source": [
    "def plot_energy_vs_active_power(info_df_dict, meter_ids):\n",
    "    #create subplots for different meters\n",
    "\n",
    "    i = 0  \n",
    "    \n",
    "    for meter, name in info_df_dict.items():\n",
    "        #fig, axs1 = plt.subplots(len(info_df_dict), 1, figsize=(10,10)) \n",
    "        fig, axs1 = plt.subplots()\n",
    "        color = 'tab:red'\n",
    "        axs1.set_ylabel('ACTIVEPOWER', color=color)\n",
    "        axs1.set_xlabel('Time')\n",
    "        axs1.set_xlim(info_df_dict[meter].index[0], info_df_dict[meter].index[-1] )\n",
    "        axs1.set_title('Meter ' + meter_ids[meter]  + ' Part Count & Energy V/s Time', fontsize=10)\n",
    "        axs1.plot(info_df_dict[meter]['ACTIVEPOWER'], color=color)\n",
    "        axs1.tick_params(axis='y', labelcolor=color)\n",
    "        \n",
    "        color = 'tab:blue'\n",
    "        axs2 = axs1.twinx()\n",
    "        axs2.set_ylabel('Energy in Wh', color=color)\n",
    "        axs2.plot(info_df_dict[meter]['REALTIME_E'], color=color)\n",
    "        axs2.tick_params(axis='y', labelcolor=color)\n",
    "        i = i + 1\n",
    "        fig.tight_layout()\n",
    "        plt.show()"
   ]
  },
  {
   "cell_type": "code",
   "execution_count": 13,
   "metadata": {},
   "outputs": [
    {
     "data": {
      "image/png": "[encoded data removed]",
      "text/plain": [
       "<Figure size 432x288 with 2 Axes>"
      ]
     },
     "metadata": {},
     "output_type": "display_data"
    }
   ],
   "source": [
    "plot_energy_vs_active_power(mains_df_dict_c, meter_ids)"
   ]
  },
  {
   "cell_type": "code",
   "execution_count": 14,
   "metadata": {},
   "outputs": [],
   "source": [
    "import tensorflow as tf"
   ]
  },
  {
   "cell_type": "code",
   "execution_count": 15,
   "metadata": {},
   "outputs": [
    {
     "name": "stdout",
     "output_type": "stream",
     "text": [
      "                      ACTIVEPOWER\n",
      "TIME                             \n",
      "2018-03-05 00:00:00  1.337356e+06\n",
      "2018-03-05 01:00:00  1.385717e+06\n",
      "2018-03-05 02:00:00  1.146767e+06\n",
      "2018-03-05 03:00:00  1.246333e+06\n",
      "2018-03-05 04:00:00  1.202950e+06\n",
      "2018-03-05 05:00:00  1.311550e+06\n",
      "2018-03-05 06:00:00  1.769417e+06\n",
      "2018-03-05 07:00:00  2.127617e+06\n",
      "2018-03-05 08:00:00  1.996732e+06\n",
      "2018-03-05 11:00:00  1.717070e+06\n",
      "2018-03-05 12:00:00  1.902183e+06\n",
      "2018-03-05 13:00:00  1.784550e+06\n",
      "2018-03-05 14:00:00  1.686317e+06\n",
      "2018-03-05 15:00:00  1.942550e+06\n",
      "2018-03-05 16:00:00  1.933333e+06\n",
      "2018-03-05 17:00:00  2.049167e+06\n",
      "2018-03-05 18:00:00  2.141450e+06\n",
      "2018-03-05 19:00:00  1.879367e+06\n",
      "2018-03-05 20:00:00  2.010300e+06\n",
      "2018-03-05 21:00:00  1.796100e+06\n",
      "2018-03-05 22:00:00  1.343333e+06\n",
      "2018-03-05 23:00:00  1.392317e+06\n",
      "2018-03-06 00:00:00  1.422133e+06\n",
      "2018-03-06 01:00:00  1.430117e+06\n",
      "2018-03-06 02:00:00  1.284650e+06\n",
      "2018-03-06 03:00:00  1.429683e+06\n",
      "2018-03-06 04:00:00  1.365383e+06\n",
      "2018-03-06 05:00:00  1.399065e+06\n",
      "2018-03-06 09:00:00  2.027556e+06\n",
      "2018-03-06 10:00:00  1.929633e+06\n",
      "...                           ...\n",
      "2018-04-04 04:00:00  1.349233e+06\n",
      "2018-04-04 05:00:00  1.426033e+06\n",
      "2018-04-04 06:00:00  1.870983e+06\n",
      "2018-04-04 07:00:00  2.491433e+06\n",
      "2018-04-04 08:00:00  2.411483e+06\n",
      "2018-04-04 09:00:00  2.573433e+06\n",
      "2018-04-04 10:00:00  2.316867e+06\n",
      "2018-04-04 11:00:00  2.145033e+06\n",
      "2018-04-04 12:00:00  2.337267e+06\n",
      "2018-04-04 13:00:00  2.312633e+06\n",
      "2018-04-04 14:00:00  2.311083e+06\n",
      "2018-04-04 15:00:00  2.569517e+06\n",
      "2018-04-04 16:00:00  2.511100e+06\n",
      "2018-04-04 17:00:00  2.613283e+06\n",
      "2018-04-04 18:00:00  2.452933e+06\n",
      "2018-04-04 19:00:00  2.227433e+06\n",
      "2018-04-04 20:00:00  2.501433e+06\n",
      "2018-04-04 21:00:00  2.178900e+06\n",
      "2018-04-04 22:00:00  1.692550e+06\n",
      "2018-04-04 23:00:00  1.697683e+06\n",
      "2018-04-05 00:00:00  1.655117e+06\n",
      "2018-04-05 01:00:00  1.531183e+06\n",
      "2018-04-05 02:00:00  1.434700e+06\n",
      "2018-04-05 03:00:00  1.593700e+06\n",
      "2018-04-05 04:00:00  1.555367e+06\n",
      "2018-04-05 05:00:00  1.459100e+06\n",
      "2018-04-05 06:00:00  2.103300e+06\n",
      "2018-04-05 07:00:00  2.478400e+06\n",
      "2018-04-05 08:00:00  2.406350e+06\n",
      "2018-04-05 09:00:00  2.565333e+06\n",
      "\n",
      "[742 rows x 1 columns]\n"
     ]
    }
   ],
   "source": [
    "mains_series = mains_df_dict_c['3']['ACTIVEPOWER']\n",
    "mains_series = mains_series.resample('H').mean()\n",
    "mains_series = mains_series.dropna()\n",
    "mains_df = pd.DataFrame(mains_series)\n",
    "print (mains_df)"
   ]
  },
  {
   "cell_type": "code",
   "execution_count": 16,
   "metadata": {},
   "outputs": [
    {
     "name": "stdout",
     "output_type": "stream",
     "text": [
      "DatetimeIndex(['2018-03-05 00:00:00', '2018-03-05 01:00:00',\n",
      "               '2018-03-05 02:00:00', '2018-03-05 03:00:00',\n",
      "               '2018-03-05 04:00:00', '2018-03-05 05:00:00',\n",
      "               '2018-03-05 06:00:00', '2018-03-05 07:00:00',\n",
      "               '2018-03-05 08:00:00', '2018-03-05 11:00:00',\n",
      "               ...\n",
      "               '2018-04-05 00:00:00', '2018-04-05 01:00:00',\n",
      "               '2018-04-05 02:00:00', '2018-04-05 03:00:00',\n",
      "               '2018-04-05 04:00:00', '2018-04-05 05:00:00',\n",
      "               '2018-04-05 06:00:00', '2018-04-05 07:00:00',\n",
      "               '2018-04-05 08:00:00', '2018-04-05 09:00:00'],\n",
      "              dtype='datetime64[ns]', name='TIME', length=742, freq=None)\n",
      "[0 0 0 0 0 0 0 0 0 0 0 0 0 0 0 0 0 0 0 0 0 0 1 1 1 1 1 1 1 1 1 1 1 1 1 1 1\n",
      " 1 1 1 1 1 1 2 2 2 2 2 2 2 2 2 2 2 2 2 2 2 2 2 2 2 2 2 2 2 2 3 3 3 3 3 3 3\n",
      " 3 3 3 3 3 3 3 3 3 3 3 3 3 3 3 3 3 4 4 4 4 4 4 4 4 4 4 4 4 4 4 4 4 4 4 4 4\n",
      " 4 4 4 4 5 5 5 5 5 5 5 5 5 5 5 5 5 5 5 5 5 5 5 5 5 5 5 5 6 6 6 6 6 6 6 6 6\n",
      " 6 6 6 6 6 6 6 6 6 6 6 6 6 6 6 0 0 0 0 0 0 0 0 0 0 0 0 0 0 0 0 0 0 0 0 0 0\n",
      " 0 0 1 1 1 1 1 1 1 1 1 1 1 1 1 1 1 1 1 1 1 1 1 1 1 1 2 2 2 2 2 2 2 2 2 2 2\n",
      " 2 2 2 2 2 2 2 2 2 2 2 2 2 3 3 3 3 3 3 3 3 3 3 3 3 3 3 3 3 3 3 3 3 3 3 3 3\n",
      " 4 4 4 4 4 4 4 4 4 4 4 4 4 4 4 4 4 4 4 4 4 4 4 4 5 5 5 5 5 5 5 5 5 5 5 5 5\n",
      " 5 5 5 5 5 5 5 5 5 5 5 6 6 6 6 6 6 6 6 6 6 6 6 6 6 6 6 6 6 6 6 6 6 6 6 0 0\n",
      " 0 0 0 0 0 0 0 0 0 0 0 0 0 0 0 0 0 0 0 0 0 0 1 1 1 1 1 1 1 1 1 1 1 1 1 1 1\n",
      " 1 1 1 1 1 1 1 1 1 2 2 2 2 2 2 2 2 2 2 2 2 2 2 2 2 2 2 2 2 2 2 2 2 3 3 3 3\n",
      " 3 3 3 3 3 3 3 3 3 3 3 3 3 3 3 3 3 3 3 3 4 4 4 4 4 4 4 4 4 4 4 4 4 4 4 4 4\n",
      " 4 4 4 4 4 5 5 5 5 5 5 5 5 5 5 5 5 5 5 5 5 5 5 5 5 5 5 5 5 6 6 6 6 6 6 6 6\n",
      " 6 6 6 6 6 6 6 6 6 6 6 0 0 0 0 0 0 0 0 0 0 0 0 0 0 0 0 0 0 0 0 0 0 0 0 1 1\n",
      " 1 1 1 1 1 1 1 1 1 1 1 1 1 1 1 1 1 1 1 1 1 1 2 2 2 2 2 2 2 2 2 2 2 2 2 2 2\n",
      " 2 2 2 2 2 2 2 2 2 3 3 3 3 3 3 3 3 3 3 3 3 3 3 3 3 3 3 3 3 3 3 3 3 4 4 4 4\n",
      " 4 4 4 4 4 4 4 4 4 4 4 4 4 4 4 4 4 4 4 4 5 5 5 5 5 5 5 5 5 5 5 5 5 5 5 5 5\n",
      " 5 5 5 5 5 5 5 6 6 6 6 6 6 6 6 6 6 6 6 6 6 6 6 6 6 6 6 6 6 6 6 0 0 0 0 0 0\n",
      " 0 0 0 0 0 0 0 0 0 0 0 0 0 0 0 0 0 0 1 1 1 1 1 1 1 1 1 1 1 1 1 1 1 1 1 1 1\n",
      " 1 1 1 1 1 2 2 2 2 2 2 2 2 2 2 2 2 2 2 2 2 2 2 2 2 2 2 2 2 3 3 3 3 3 3 3 3\n",
      " 3 3]\n"
     ]
    }
   ],
   "source": [
    "print (mains_df.index)\n",
    "day_list = np.array(mains_df.index.weekday)\n",
    "print(day_list)"
   ]
  },
  {
   "cell_type": "code",
   "execution_count": 17,
   "metadata": {},
   "outputs": [
    {
     "data": {
      "text/plain": [
       "742"
      ]
     },
     "execution_count": 17,
     "metadata": {},
     "output_type": "execute_result"
    }
   ],
   "source": [
    "len(day_list)"
   ]
  },
  {
   "cell_type": "code",
   "execution_count": 18,
   "metadata": {},
   "outputs": [
    {
     "name": "stdout",
     "output_type": "stream",
     "text": [
      "[0, 0, 0, 0, 0, 0, 0, 0, 0, 0, 0, 0, 0, 0, 0, 0, 0, 0, 0, 0, 0, 0, 0, 0, 0, 0, 0, 0, 0, 0, 0, 0, 0, 0, 0, 0, 0, 0, 0, 0, 0, 0, 0, 0, 0, 0, 0, 0, 0, 0, 0, 0, 0, 0, 0, 0, 0, 0, 0, 0, 0, 0, 0, 0, 0, 0, 0, 0, 0, 0, 0, 0, 0, 0, 0, 0, 0, 0, 0, 0, 0, 0, 0, 0, 0, 0, 0, 0, 0, 0, 0, 0, 0, 0, 0, 0, 0, 0, 0, 0, 0, 0, 0, 0, 0, 0, 0, 0, 0, 0, 0, 0, 0, 0, 0, 1, 1, 1, 1, 1, 1, 1, 1, 1, 1, 1, 1, 1, 1, 1, 1, 1, 1, 1, 1, 1, 1, 1, 1, 1, 1, 1, 1, 1, 1, 1, 1, 1, 1, 1, 1, 1, 1, 1, 1, 1, 1, 1, 1, 1, 1, 1, 1, 0, 0, 0, 0, 0, 0, 0, 0, 0, 0, 0, 0, 0, 0, 0, 0, 0, 0, 0, 0, 0, 0, 0, 0, 0, 0, 0, 0, 0, 0, 0, 0, 0, 0, 0, 0, 0, 0, 0, 0, 0, 0, 0, 0, 0, 0, 0, 0, 0, 0, 0, 0, 0, 0, 0, 0, 0, 0, 0, 0, 0, 0, 0, 0, 0, 0, 0, 0, 0, 0, 0, 0, 0, 0, 0, 0, 0, 0, 0, 0, 0, 0, 0, 0, 0, 0, 0, 0, 0, 0, 0, 0, 0, 0, 0, 0, 0, 0, 0, 0, 0, 0, 0, 0, 0, 0, 0, 0, 0, 0, 0, 0, 0, 0, 0, 0, 0, 0, 0, 0, 1, 1, 1, 1, 1, 1, 1, 1, 1, 1, 1, 1, 1, 1, 1, 1, 1, 1, 1, 1, 1, 1, 1, 1, 1, 1, 1, 1, 1, 1, 1, 1, 1, 1, 1, 1, 1, 1, 1, 1, 1, 1, 1, 1, 1, 1, 1, 1, 0, 0, 0, 0, 0, 0, 0, 0, 0, 0, 0, 0, 0, 0, 0, 0, 0, 0, 0, 0, 0, 0, 0, 0, 0, 0, 0, 0, 0, 0, 0, 0, 0, 0, 0, 0, 0, 0, 0, 0, 0, 0, 0, 0, 0, 0, 0, 0, 0, 0, 0, 0, 0, 0, 0, 0, 0, 0, 0, 0, 0, 0, 0, 0, 0, 0, 0, 0, 0, 0, 0, 0, 0, 0, 0, 0, 0, 0, 0, 0, 0, 0, 0, 0, 0, 0, 0, 0, 0, 0, 0, 0, 0, 0, 0, 0, 0, 0, 0, 0, 0, 0, 0, 0, 0, 0, 0, 0, 0, 0, 0, 0, 0, 0, 0, 0, 0, 0, 1, 1, 1, 1, 1, 1, 1, 1, 1, 1, 1, 1, 1, 1, 1, 1, 1, 1, 1, 1, 1, 1, 1, 1, 1, 1, 1, 1, 1, 1, 1, 1, 1, 1, 1, 1, 1, 1, 1, 1, 1, 1, 1, 0, 0, 0, 0, 0, 0, 0, 0, 0, 0, 0, 0, 0, 0, 0, 0, 0, 0, 0, 0, 0, 0, 0, 0, 0, 0, 0, 0, 0, 0, 0, 0, 0, 0, 0, 0, 0, 0, 0, 0, 0, 0, 0, 0, 0, 0, 0, 0, 0, 0, 0, 0, 0, 0, 0, 0, 0, 0, 0, 0, 0, 0, 0, 0, 0, 0, 0, 0, 0, 0, 0, 0, 0, 0, 0, 0, 0, 0, 0, 0, 0, 0, 0, 0, 0, 0, 0, 0, 0, 0, 0, 0, 0, 0, 0, 0, 0, 0, 0, 0, 0, 0, 0, 0, 0, 0, 0, 0, 0, 0, 0, 0, 0, 0, 0, 0, 0, 0, 0, 0, 1, 1, 1, 1, 1, 1, 1, 1, 1, 1, 1, 1, 1, 1, 1, 1, 1, 1, 1, 1, 1, 1, 1, 1, 1, 1, 1, 1, 1, 1, 1, 1, 1, 1, 1, 1, 1, 1, 1, 1, 1, 1, 1, 1, 1, 1, 1, 1, 0, 0, 0, 0, 0, 0, 0, 0, 0, 0, 0, 0, 0, 0, 0, 0, 0, 0, 0, 0, 0, 0, 0, 0, 0, 0, 0, 0, 0, 0, 0, 0, 0, 0, 0, 0, 0, 0, 0, 0, 0, 0, 0, 0, 0, 0, 0, 0, 0, 0, 0, 0, 0, 0, 0, 0, 0, 0, 0, 0, 0, 0, 0, 0, 0, 0, 0, 0, 0, 0, 0, 0, 0, 0, 0, 0, 0, 0, 0, 0, 0, 0]\n"
     ]
    }
   ],
   "source": [
    "week_switch = [1 if day==5 or day==6 else 0 for day in day_list]\n",
    "print (week_switch)"
   ]
  },
  {
   "cell_type": "code",
   "execution_count": 19,
   "metadata": {},
   "outputs": [
    {
     "data": {
      "text/html": [
       "<div>\n",
       "<style scoped>\n",
       "    .dataframe tbody tr th:only-of-type {\n",
       "        vertical-align: middle;\n",
       "    }\n",
       "\n",
       "    .dataframe tbody tr th {\n",
       "        vertical-align: top;\n",
       "    }\n",
       "\n",
       "    .dataframe thead th {\n",
       "        text-align: right;\n",
       "    }\n",
       "</style>\n",
       "<table border=\"1\" class=\"dataframe\">\n",
       "  <thead>\n",
       "    <tr style=\"text-align: right;\">\n",
       "      <th></th>\n",
       "      <th>ACTIVEPOWER</th>\n",
       "    </tr>\n",
       "    <tr>\n",
       "      <th>TIME</th>\n",
       "      <th></th>\n",
       "    </tr>\n",
       "  </thead>\n",
       "  <tbody>\n",
       "    <tr>\n",
       "      <th>2018-03-05 00:00:00</th>\n",
       "      <td>1.337356e+06</td>\n",
       "    </tr>\n",
       "    <tr>\n",
       "      <th>2018-03-05 01:00:00</th>\n",
       "      <td>1.385717e+06</td>\n",
       "    </tr>\n",
       "    <tr>\n",
       "      <th>2018-03-05 02:00:00</th>\n",
       "      <td>1.146767e+06</td>\n",
       "    </tr>\n",
       "    <tr>\n",
       "      <th>2018-03-05 03:00:00</th>\n",
       "      <td>1.246333e+06</td>\n",
       "    </tr>\n",
       "    <tr>\n",
       "      <th>2018-03-05 04:00:00</th>\n",
       "      <td>1.202950e+06</td>\n",
       "    </tr>\n",
       "  </tbody>\n",
       "</table>\n",
       "</div>"
      ],
      "text/plain": [
       "                      ACTIVEPOWER\n",
       "TIME                             \n",
       "2018-03-05 00:00:00  1.337356e+06\n",
       "2018-03-05 01:00:00  1.385717e+06\n",
       "2018-03-05 02:00:00  1.146767e+06\n",
       "2018-03-05 03:00:00  1.246333e+06\n",
       "2018-03-05 04:00:00  1.202950e+06"
      ]
     },
     "execution_count": 19,
     "metadata": {},
     "output_type": "execute_result"
    }
   ],
   "source": [
    "mains_df.head()"
   ]
  },
  {
   "cell_type": "code",
   "execution_count": 20,
   "metadata": {},
   "outputs": [
    {
     "name": "stdout",
     "output_type": "stream",
     "text": [
      "168\n",
      "                      ACTIVEPOWER\n",
      "TIME                             \n",
      "2018-03-05 00:00:00  1.337356e+06\n",
      "2018-03-05 01:00:00  1.385717e+06\n",
      "2018-03-05 02:00:00  1.146767e+06\n",
      "2018-03-05 03:00:00  1.246333e+06\n",
      "2018-03-05 04:00:00  1.202950e+06\n",
      "2018-03-05 05:00:00  1.311550e+06\n",
      "2018-03-05 06:00:00  1.769417e+06\n",
      "2018-03-05 07:00:00  2.127617e+06\n",
      "2018-03-05 08:00:00  1.996732e+06\n",
      "2018-03-05 11:00:00  1.717070e+06\n",
      "2018-03-05 12:00:00  1.902183e+06\n",
      "2018-03-05 13:00:00  1.784550e+06\n",
      "2018-03-05 14:00:00  1.686317e+06\n",
      "2018-03-05 15:00:00  1.942550e+06\n",
      "2018-03-05 16:00:00  1.933333e+06\n",
      "2018-03-05 17:00:00  2.049167e+06\n",
      "2018-03-05 18:00:00  2.141450e+06\n",
      "2018-03-05 19:00:00  1.879367e+06\n",
      "2018-03-05 20:00:00  2.010300e+06\n",
      "2018-03-05 21:00:00  1.796100e+06\n",
      "2018-03-05 22:00:00  1.343333e+06\n",
      "2018-03-05 23:00:00  1.392317e+06\n",
      "2018-03-06 00:00:00  1.422133e+06\n",
      "2018-03-06 01:00:00  1.430117e+06\n",
      "2018-03-06 02:00:00  1.284650e+06\n",
      "2018-03-06 03:00:00  1.429683e+06\n",
      "2018-03-06 04:00:00  1.365383e+06\n",
      "2018-03-06 05:00:00  1.399065e+06\n",
      "2018-03-06 09:00:00  2.027556e+06\n",
      "2018-03-06 10:00:00  1.929633e+06\n",
      "...                           ...\n",
      "2018-03-28 04:00:00  1.563833e+06\n",
      "2018-03-28 05:00:00  1.563917e+06\n",
      "2018-03-28 06:00:00  2.015900e+06\n",
      "2018-03-28 07:00:00  2.359567e+06\n",
      "2018-03-28 08:00:00  2.406033e+06\n",
      "2018-03-28 09:00:00  2.383983e+06\n",
      "2018-03-28 10:00:00  2.194900e+06\n",
      "2018-03-28 11:00:00  2.154967e+06\n",
      "2018-03-28 12:00:00  2.249917e+06\n",
      "2018-03-28 13:00:00  2.267283e+06\n",
      "2018-03-28 14:00:00  2.107467e+06\n",
      "2018-03-28 15:00:00  2.406417e+06\n",
      "2018-03-28 16:00:00  2.386267e+06\n",
      "2018-03-28 17:00:00  2.475100e+06\n",
      "2018-03-28 18:00:00  2.370433e+06\n",
      "2018-03-28 19:00:00  2.061250e+06\n",
      "2018-03-28 20:00:00  2.353700e+06\n",
      "2018-03-28 21:00:00  2.069583e+06\n",
      "2018-03-28 22:00:00  1.540900e+06\n",
      "2018-03-28 23:00:00  1.650133e+06\n",
      "2018-03-29 00:00:00  1.734383e+06\n",
      "2018-03-29 01:00:00  1.678900e+06\n",
      "2018-03-29 02:00:00  1.499200e+06\n",
      "2018-03-29 03:00:00  1.625767e+06\n",
      "2018-03-29 04:00:00  1.554683e+06\n",
      "2018-03-29 05:00:00  1.541517e+06\n",
      "2018-03-29 06:00:00  2.158233e+06\n",
      "2018-03-29 07:00:00  2.483450e+06\n",
      "2018-03-29 08:00:00  2.352450e+06\n",
      "2018-03-29 09:00:00  2.352567e+06\n",
      "\n",
      "[574 rows x 1 columns]\n"
     ]
    }
   ],
   "source": [
    "min_ahead = 24 * 7\n",
    "print (min_ahead)\n",
    "train_set = mains_df.iloc[:-min_ahead]\n",
    "print (train_set)\n",
    "test_set = mains_df.iloc[-min_ahead:]"
   ]
  },
  {
   "cell_type": "code",
   "execution_count": 21,
   "metadata": {},
   "outputs": [],
   "source": [
    "from sklearn.preprocessing import MinMaxScaler"
   ]
  },
  {
   "cell_type": "code",
   "execution_count": 22,
   "metadata": {},
   "outputs": [],
   "source": [
    "scaler = MinMaxScaler()"
   ]
  },
  {
   "cell_type": "code",
   "execution_count": 23,
   "metadata": {},
   "outputs": [],
   "source": [
    "train_scaled = scaler.fit_transform(train_set)"
   ]
  },
  {
   "cell_type": "code",
   "execution_count": 24,
   "metadata": {},
   "outputs": [
    {
     "name": "stdout",
     "output_type": "stream",
     "text": [
      "[0, 0, 0, 0, 0, 0, 0, 0, 0, 0, 0, 0, 0, 0, 0, 0, 0, 0, 0, 0, 0, 0, 0, 0, 0, 0, 0, 0, 0, 0, 0, 0, 0, 0, 0, 0, 0, 0, 0, 0, 0, 0, 0, 0, 0, 0, 0, 0, 0, 0, 0, 0, 0, 0, 0, 0, 0, 0, 0, 0, 0, 0, 0, 0, 0, 0, 0, 0, 0, 0, 0, 0, 0, 0, 0, 0, 0, 0, 0, 0, 0, 0, 0, 0, 0, 0, 0, 0, 0, 0, 0, 0, 0, 0, 0, 0, 0, 0, 0, 0, 0, 0, 0, 0, 0, 0, 0, 0, 0, 0, 0, 0, 0, 0, 0, 1, 1, 1, 1, 1, 1, 1, 1, 1, 1, 1, 1, 1, 1, 1, 1, 1, 1, 1, 1, 1, 1, 1, 1, 1, 1, 1, 1, 1, 1, 1, 1, 1, 1, 1, 1, 1, 1, 1, 1, 1, 1, 1, 1, 1, 1, 1, 1, 0, 0, 0, 0, 0, 0, 0, 0, 0, 0, 0, 0, 0, 0, 0, 0, 0, 0, 0, 0, 0, 0, 0, 0, 0, 0, 0, 0, 0, 0, 0, 0, 0, 0, 0, 0, 0, 0, 0, 0, 0, 0, 0, 0, 0, 0, 0, 0, 0, 0, 0, 0, 0, 0, 0, 0, 0, 0, 0, 0, 0, 0, 0, 0, 0, 0, 0, 0, 0, 0, 0, 0, 0, 0, 0, 0, 0, 0, 0, 0, 0, 0, 0, 0, 0, 0, 0, 0, 0, 0, 0, 0, 0, 0, 0, 0, 0, 0, 0, 0, 0, 0, 0, 0, 0, 0, 0, 0, 0, 0, 0, 0, 0, 0, 0, 0, 0, 0, 0, 0, 1, 1, 1, 1, 1, 1, 1, 1, 1, 1, 1, 1, 1, 1, 1, 1, 1, 1, 1, 1, 1, 1, 1, 1, 1, 1, 1, 1, 1, 1, 1, 1, 1, 1, 1, 1, 1, 1, 1, 1, 1, 1, 1, 1, 1, 1, 1, 1, 0, 0, 0, 0, 0, 0, 0, 0, 0, 0, 0, 0, 0, 0, 0, 0, 0, 0, 0, 0, 0, 0, 0, 0, 0, 0, 0, 0, 0, 0, 0, 0, 0, 0, 0, 0, 0, 0, 0, 0, 0, 0, 0, 0, 0, 0, 0, 0, 0, 0, 0, 0, 0, 0, 0, 0, 0, 0, 0, 0, 0, 0, 0, 0, 0, 0, 0, 0, 0, 0, 0, 0, 0, 0, 0, 0, 0, 0, 0, 0, 0, 0, 0, 0, 0, 0, 0, 0, 0, 0, 0, 0, 0, 0, 0, 0, 0, 0, 0, 0, 0, 0, 0, 0, 0, 0, 0, 0, 0, 0, 0, 0, 0, 0, 0, 0, 0, 0, 1, 1, 1, 1, 1, 1, 1, 1, 1, 1, 1, 1, 1, 1, 1, 1, 1, 1, 1, 1, 1, 1, 1, 1, 1, 1, 1, 1, 1, 1, 1, 1, 1, 1, 1, 1, 1, 1, 1, 1, 1, 1, 1, 0, 0, 0, 0, 0, 0, 0, 0, 0, 0, 0, 0, 0, 0, 0, 0, 0, 0, 0, 0, 0, 0, 0, 0, 0, 0, 0, 0, 0, 0, 0, 0, 0, 0, 0, 0, 0, 0, 0, 0, 0, 0, 0, 0, 0, 0, 0, 0, 0, 0, 0, 0, 0, 0, 0, 0, 0, 0, 0, 0, 0, 0, 0, 0, 0, 0, 0, 0, 0, 0, 0, 0, 0, 0, 0, 0, 0, 0, 0, 0, 0, 0]\n"
     ]
    }
   ],
   "source": [
    "day = week_switch[:-min_ahead]\n",
    "print (day)\n",
    "train_scaled_final = []\n",
    "for i in range(len(train_scaled)):\n",
    "    train_scaled_final.append(list(np.append(train_scaled[i],day[i])))"
   ]
  },
  {
   "cell_type": "code",
   "execution_count": 25,
   "metadata": {},
   "outputs": [],
   "source": [
    "test_scaled = scaler.transform(test_set)\n",
    "day = week_switch[min_ahead:]\n",
    "test_scaled_final = []\n",
    "for i in range(len(test_scaled)):\n",
    "    test_scaled_final.append(list(np.append(test_scaled[i],day[i])))"
   ]
  },
  {
   "cell_type": "code",
   "execution_count": 26,
   "metadata": {},
   "outputs": [],
   "source": [
    "def next_batch(training_data,batch_size,steps):\n",
    "    \n",
    "    rand_start = np.random.randint(0,len(training_data)-steps) \n",
    "\n",
    "    # Create Y data for time series in the batches\n",
    "    y_batch = training_data[rand_start:rand_start+steps+1]\n",
    "    return y_batch[:-1, :].reshape(-1, steps, 2), y_batch[1:, :].reshape(-1, steps, 2) \n"
   ]
  },
  {
   "cell_type": "code",
   "execution_count": 27,
   "metadata": {},
   "outputs": [],
   "source": [
    "x,y = next_batch(np.array(train_scaled_final), 1, 24*7)"
   ]
  },
  {
   "cell_type": "code",
   "execution_count": 28,
   "metadata": {},
   "outputs": [],
   "source": [
    "# Just one feature, the time series\n",
    "num_inputs = 2\n",
    "# Num of steps in each batch\n",
    "num_time_steps = min_ahead\n",
    "# 100 neuron layer, play with this\n",
    "num_neurons = 100\n",
    "# Just one output, predicted time series\n",
    "num_outputs = 2\n",
    "num_layers = 1 ## You can also try increasing iterations, but decreasing learning rate\n",
    "learning_rate = 0.001 \n",
    "# how many iterations to go through (training steps)\n",
    "num_train_iterations = 600000\n",
    "# Size of the batch of data\n",
    "batch_size = 1\n",
    "tf.reset_default_graph()"
   ]
  },
  {
   "cell_type": "code",
   "execution_count": 29,
   "metadata": {},
   "outputs": [],
   "source": [
    "X = tf.placeholder(tf.float32, [None, num_time_steps, num_inputs], name = 'Xs')\n",
    "y = tf.placeholder(tf.float32, [None, num_time_steps, num_outputs], name = 'ys')"
   ]
  },
  {
   "cell_type": "code",
   "execution_count": 30,
   "metadata": {},
   "outputs": [
    {
     "data": {
      "text/plain": [
       "'cell = tf.contrib.rnn.MultiRNNCell([tf.contrib.rnn.OutputProjectionWrapper(tf.contrib.rnn.BasicLSTMCell(num_units=num_neurons),\\n                                        output_size=num_outputs)] * num_layers)'"
      ]
     },
     "execution_count": 30,
     "metadata": {},
     "output_type": "execute_result"
    }
   ],
   "source": [
    "'''cell = tf.contrib.rnn.MultiRNNCell([tf.contrib.rnn.OutputProjectionWrapper(tf.contrib.rnn.BasicLSTMCell(num_units=num_neurons),\n",
    "                                        output_size=num_outputs)] * num_layers)'''\n"
   ]
  },
  {
   "cell_type": "code",
   "execution_count": 1,
   "metadata": {},
   "outputs": [
    {
     "ename": "NameError",
     "evalue": "name 'tf' is not defined",
     "output_type": "error",
     "traceback": [
      "\u001b[0;31m---------------------------------------------------------------------------\u001b[0m",
      "\u001b[0;31mNameError\u001b[0m                                 Traceback (most recent call last)",
      "\u001b[0;32m<ipython-input-1-1db2a9d49d35>\u001b[0m in \u001b[0;36m<module>\u001b[0;34m()\u001b[0m\n\u001b[1;32m      1\u001b[0m \u001b[0;31m# Also play around with GRUCell\u001b[0m\u001b[0;34m\u001b[0m\u001b[0;34m\u001b[0m\u001b[0m\n\u001b[0;32m----> 2\u001b[0;31m \u001b[0;32mwith\u001b[0m \u001b[0mtf\u001b[0m\u001b[0;34m.\u001b[0m\u001b[0mname_scope\u001b[0m\u001b[0;34m(\u001b[0m\u001b[0;34m\"LSTM_Layers\"\u001b[0m\u001b[0;34m)\u001b[0m \u001b[0;32mas\u001b[0m \u001b[0mscope\u001b[0m\u001b[0;34m:\u001b[0m\u001b[0;34m\u001b[0m\u001b[0m\n\u001b[0m\u001b[1;32m      3\u001b[0m     cell = tf.contrib.rnn.OutputProjectionWrapper(\n\u001b[1;32m      4\u001b[0m     \u001b[0mtf\u001b[0m\u001b[0;34m.\u001b[0m\u001b[0mcontrib\u001b[0m\u001b[0;34m.\u001b[0m\u001b[0mrnn\u001b[0m\u001b[0;34m.\u001b[0m\u001b[0mBasicLSTMCell\u001b[0m\u001b[0;34m(\u001b[0m\u001b[0mnum_units\u001b[0m\u001b[0;34m=\u001b[0m\u001b[0mnum_neurons\u001b[0m\u001b[0;34m)\u001b[0m\u001b[0;34m,\u001b[0m\u001b[0;34m\u001b[0m\u001b[0m\n\u001b[1;32m      5\u001b[0m     output_size=num_time_steps)\n",
      "\u001b[0;31mNameError\u001b[0m: name 'tf' is not defined"
     ]
    }
   ],
   "source": [
    "# Also play around with GRUCell\n",
    "with tf.name_scope(\"LSTM_Layers\") as scope: \n",
    "    cell = tf.contrib.rnn.OutputProjectionWrapper(\n",
    "    tf.contrib.rnn.BasicLSTMCell(num_units=num_neurons),\n",
    "    output_size=num_time_steps)\n",
    "    "
   ]
  },
  {
   "cell_type": "code",
   "execution_count": 32,
   "metadata": {},
   "outputs": [],
   "source": [
    "rnn_outputs, states = tf.nn.dynamic_rnn(cell, X, dtype=tf.float32)"
   ]
  },
  {
   "cell_type": "code",
   "execution_count": 33,
   "metadata": {},
   "outputs": [],
   "source": [
    "outputs = tf.layers.dense(inputs=rnn_outputs, units=num_outputs, activation=None, name='Dense_output')"
   ]
  },
  {
   "cell_type": "code",
   "execution_count": 34,
   "metadata": {},
   "outputs": [],
   "source": [
    "with tf.name_scope(\"loss\") as scope:\n",
    "    loss = tf.reduce_mean(tf.square(outputs - y))\n",
    "\n",
    "with tf.name_scope(\"train\") as scope:\n",
    "    optimizer = tf.train.AdamOptimizer(learning_rate=learning_rate)\n",
    "    \n",
    "    '''gvs = optimizer.compute_gradients(loss)\n",
    "    capped_gvs = [(tf.clip_by_value(grad, -1., 1.), var) for grad, var in gvs]'''\n",
    "    train = optimizer.minimize(loss)"
   ]
  },
  {
   "cell_type": "code",
   "execution_count": 35,
   "metadata": {},
   "outputs": [],
   "source": [
    "init = tf.global_variables_initializer()\n",
    "# Merge all summaries into a single operator"
   ]
  },
  {
   "cell_type": "code",
   "execution_count": 36,
   "metadata": {},
   "outputs": [],
   "source": [
    "saver = tf.train.Saver()\n"
   ]
  },
  {
   "cell_type": "code",
   "execution_count": 37,
   "metadata": {},
   "outputs": [],
   "source": [
    "gpu_options = tf.GPUOptions(per_process_gpu_memory_fraction=0.9)"
   ]
  },
  {
   "cell_type": "code",
   "execution_count": null,
   "metadata": {},
   "outputs": [
    {
     "name": "stdout",
     "output_type": "stream",
     "text": [
      "0 \tMSE: 0.2426122\n",
      "5000 \tMSE: 0.004373129\n",
      "10000 \tMSE: 0.00091884425\n",
      "15000 \tMSE: 0.0006233013\n",
      "20000 \tMSE: 0.00045100873\n",
      "25000 \tMSE: 0.00051429635\n",
      "30000 \tMSE: 0.0004024587\n",
      "35000 \tMSE: 0.0032255885\n",
      "40000 \tMSE: 0.00035371876\n",
      "45000 \tMSE: 0.00020450476\n",
      "50000 \tMSE: 9.728702e-05\n",
      "55000 \tMSE: 0.00015214887\n",
      "60000 \tMSE: 0.00024501883\n",
      "65000 \tMSE: 0.002515259\n",
      "70000 \tMSE: 0.00012572913\n",
      "75000 \tMSE: 0.00011130509\n",
      "80000 \tMSE: 0.0013723692\n",
      "85000 \tMSE: 9.837243e-05\n",
      "90000 \tMSE: 9.167763e-05\n",
      "95000 \tMSE: 0.00022999685\n",
      "100000 \tMSE: 0.00022808106\n",
      "105000 \tMSE: 8.0686055e-05\n",
      "110000 \tMSE: 0.00034558738\n",
      "115000 \tMSE: 0.00017802604\n",
      "120000 \tMSE: 8.751672e-05\n",
      "125000 \tMSE: 0.00040660487\n",
      "130000 \tMSE: 0.00011142767\n",
      "135000 \tMSE: 0.000111522175\n",
      "140000 \tMSE: 9.614229e-05\n",
      "145000 \tMSE: 0.00017683125\n",
      "150000 \tMSE: 0.0002031474\n",
      "155000 \tMSE: 0.00017365889\n",
      "160000 \tMSE: 0.00013736876\n",
      "165000 \tMSE: 0.00017233756\n",
      "170000 \tMSE: 0.00017594034\n",
      "175000 \tMSE: 0.00010582024\n",
      "180000 \tMSE: 0.00036486288\n",
      "185000 \tMSE: 0.00013327843\n",
      "190000 \tMSE: 7.476324e-05\n",
      "195000 \tMSE: 4.2032185e-05\n",
      "200000 \tMSE: 2.6426225e-05\n",
      "205000 \tMSE: 9.868642e-05\n",
      "210000 \tMSE: 0.00020573165\n",
      "215000 \tMSE: 8.904869e-05\n",
      "220000 \tMSE: 0.0001512949\n",
      "225000 \tMSE: 0.00031705684\n",
      "230000 \tMSE: 9.907378e-05\n",
      "235000 \tMSE: 0.00014836167\n",
      "240000 \tMSE: 9.405808e-05\n",
      "245000 \tMSE: 0.002260464\n",
      "250000 \tMSE: 0.0002076122\n",
      "255000 \tMSE: 0.00011207365\n"
     ]
    }
   ],
   "source": [
    "with tf.Session(config=tf.ConfigProto(gpu_options=gpu_options)) as sess:\n",
    "    sess.run(init)\n",
    "    writer = tf.summary.FileWriter(\"logs/output\", sess.graph)\n",
    "    for iteration in range(num_train_iterations):\n",
    "        \n",
    "        X_batch, y_batch = next_batch(np.array(train_scaled_final),batch_size,num_time_steps)\n",
    "        sess.run(train, feed_dict={X: X_batch, y: y_batch})\n",
    "#        summary_str = sess.run(merged_summary_op, feed_dict={X: X_batch, y: y_batch})\n",
    "#        summary_writer.add_summary(summary_str, iteration)\n",
    "        \n",
    "        if iteration % 5000 == 0:\n",
    "            \n",
    "            mse = loss.eval(feed_dict={X: X_batch, y: y_batch})\n",
    "            print(iteration, \"\\tMSE:\", mse)\n",
    "    \n",
    "    # Save Model for Later\n",
    "    writer.close()\n",
    "    saver.save(sess, \"./ex_time_series_model_1.21\")"
   ]
  },
  {
   "cell_type": "code",
   "execution_count": null,
   "metadata": {},
   "outputs": [],
   "source": [
    "with tf.Session() as sess:\n",
    "    \n",
    "    # Use your Saver instance to restore your saved rnn time series model\n",
    "    saver.restore(sess, \"./ex_time_series_model_1.21\")\n",
    "\n",
    "    # Create a numpy array for your genreative seed from the last 12 months of the \n",
    "    train_seed = list(train_scaled_final[-num_time_steps:])\n",
    "    \n",
    "    ## Now create a for loop that \n",
    "    for iteration in range(int(min_ahead)):\n",
    "        X_batch = np.array(train_seed[-(num_time_steps):]).reshape(1, num_time_steps, 2)\n",
    "        y_pred = sess.run(outputs, feed_dict={X: X_batch})\n",
    "        train_seed.append(y_pred[0, -1, :])"
   ]
  },
  {
   "cell_type": "code",
   "execution_count": null,
   "metadata": {},
   "outputs": [],
   "source": [
    "results = scaler.inverse_transform(np.array(train_seed[num_time_steps:]).reshape(int(min_ahead),2))"
   ]
  },
  {
   "cell_type": "code",
   "execution_count": null,
   "metadata": {},
   "outputs": [],
   "source": [
    "plt.plot(test_set.index, results[:,0], label='Predicted' )\n",
    "plt.plot(test_set['ACTIVEPOWER'], label='Actual')\n",
    "plt.legend()\n",
    "plt.title('Week Ahead Prediction')\n",
    "plt.xlabel('Hourly Intervals')\n",
    "plt.ylabel('Power in W')"
   ]
  },
  {
   "cell_type": "code",
   "execution_count": null,
   "metadata": {},
   "outputs": [],
   "source": [
    "plt.plot(test_set.index[:24], results[:24, 0], label='Predicted' )\n",
    "plt.plot(test_set[:24], label='Actual')\n",
    "plt.legend()\n",
    "plt.title('Day Ahead Prediction')\n",
    "plt.xlabel('Hourly Intervals')\n",
    "plt.ylabel('Power in W')"
   ]
  },
  {
   "cell_type": "code",
   "execution_count": null,
   "metadata": {},
   "outputs": [],
   "source": [
    "error = (np.array(test_set['ACTIVEPOWER'][:24]) - results[:24, 0])/ np.array(test_set['ACTIVEPOWER'][:24])/(min_ahead/7)*100\n",
    "np.sum(error)"
   ]
  },
  {
   "cell_type": "code",
   "execution_count": null,
   "metadata": {},
   "outputs": [],
   "source": [
    "plt.title('Error Plot')\n",
    "plt.xlabel('Hours ahead in time')\n",
    "plt.ylabel('% Error')\n",
    "plt.plot(np.abs(error))"
   ]
  },
  {
   "cell_type": "code",
   "execution_count": null,
   "metadata": {},
   "outputs": [],
   "source": [
    "def import_test_data(database_name, start_date): \n",
    "    conn = sqlite3.connect(database_name)\n",
    "   \n",
    "        #sql qeury where all the colums are selected and the elements of the table are ordered by time\n",
    "    df = pd.read_sql(\"SELECT TIME, ACTIVEPOWER, REALTIME_E FROM RS485SAMPLES WHERE meter_id = 1903 ORDER BY time\" , conn)\n",
    "        \n",
    "    ndf = pd.DataFrame()\n",
    "    ndf= df\n",
    "    ndf = ndf[ndf['TIME'] != \"\"]    # Drop all data entries without time field\n",
    "       #Time Index truncated to minutewise accuracies only \n",
    "    ndf['TIME'] = pd.to_datetime(ndf['TIME'])\n",
    "    ndf['TIME'] = ndf['TIME'].values.astype('<M8[m]')\n",
    "    \n",
    "    ndf = ndf.set_index('TIME') \n",
    "    ndf = ndf[~ndf.index.duplicated(keep='first')]\n",
    "    ndf = clean_dataframe(ndf, start_date)\n",
    "    return ndf\n",
    "\n",
    "def clean_dataframe(info_df, start_date):\n",
    "    info_df = info_df[start_date: ]\n",
    "    info_df = info_df[(info_df['ACTIVEPOWER'] < 3000000) & (info_df['ACTIVEPOWER'] > 10000)]\n",
    "    info_df = info_df[info_df['REALTIME_E'] < 20000000000]\n",
    "    info_df['del_E'] = info_df['REALTIME_E'] - info_df['REALTIME_E'].shift(1)\n",
    "    info_df = info_df.iloc[1:]\n",
    "    info_df = info_df[(info_df['del_E'] > 0) & (info_df['del_E'] < 300000 )]\n",
    "    return info_dfdrop\n"
   ]
  },
  {
   "cell_type": "code",
   "execution_count": null,
   "metadata": {},
   "outputs": [],
   "source": [
    "test_df = import_test_data('U:\\energy_analytics(EGT)\\Jaipur_Data\\jaipur_test.db' , '2018-04-10')"
   ]
  },
  {
   "cell_type": "code",
   "execution_count": null,
   "metadata": {},
   "outputs": [],
   "source": [
    "test_df.head()"
   ]
  },
  {
   "cell_type": "code",
   "execution_count": null,
   "metadata": {},
   "outputs": [],
   "source": [
    "plt.plot(test_df['ACTIVEPOWER'])"
   ]
  },
  {
   "cell_type": "code",
   "execution_count": null,
   "metadata": {},
   "outputs": [],
   "source": [
    "mains_series_test = test_df['ACTIVEPOWER']\n",
    "mains_series_test = mains_series_test.resample('H').mean()\n",
    "mains_series_test = mains_series_test.dropna()\n",
    "mains_df_test = pd.DataFrame(mains_series_test)\n",
    "day_list = np.array(mains_df_test.index.weekday)\n"
   ]
  },
  {
   "cell_type": "code",
   "execution_count": null,
   "metadata": {},
   "outputs": [],
   "source": [
    "week_switch = [1 if day==5 or day==6 else 0 for day in day_list]\n",
    "test_scaled = scaler.transform(mains_df_test)\n",
    "test_scaled_final = []\n",
    "for i in range(len(test_scaled)):\n",
    "    test_scaled_final.append(list(np.append(test_scaled[i],week_switch[i])))"
   ]
  },
  {
   "cell_type": "code",
   "execution_count": null,
   "metadata": {},
   "outputs": [],
   "source": [
    "\n",
    "error_list = []\n",
    "corr_list = []\n",
    "for day_offset in range(20):\n",
    "    with tf.Session() as sess:\n",
    "\n",
    "        # Use your Saver instance to restore your saved rnn time series model\n",
    "        saver.restore(sess, \"./ex_time_series_model_1.20\")\n",
    "\n",
    "        # Create a numpy array for your genreative seed from the last 12 months of the \n",
    "        train_seed = list(test_scaled_final[24*day_offset : num_time_steps + 24*day_offset])\n",
    "\n",
    "        ## Now create a for loop that \n",
    "        for iteration in range(int(min_ahead)):\n",
    "            X_batch = np.array(train_seed[-(num_time_steps):]).reshape(1, num_time_steps, 2)\n",
    "            y_pred = sess.run(outputs, feed_dict={X: X_batch})\n",
    "            train_seed.append(y_pred[0, -1, :])\n",
    "\n",
    "    results = scaler.inverse_transform(np.array(train_seed[num_time_steps:]).reshape(int(min_ahead),2))\n",
    "    ref_df = mains_df_test[num_time_steps + 24*day_offset : num_time_steps + (day_offset + 1)*24]['ACTIVEPOWER']\n",
    "    res = results[:24,0]\n",
    "\n",
    "    error = np.mean(abs((ref_df - results[:24, 0])/ ref_df *100))\n",
    "    corr = np.corrcoef(ref_df,results[:24, 0])[0,1]\n",
    "    error_list.append(error)\n",
    "\n",
    "    corr_list.append(corr)\n",
    "    fig, ax = plt.subplots( nrows=1, ncols=1, figsize=(15,15))\n",
    "    ax.set_title('Day Ahead Prediction Error=' + str(error))\n",
    "    ax.set_ylabel('Active Power in W')\n",
    "    ax.set_xlabel('Date')\n",
    "    ax.plot(ref_df.index , results[:24,0], label='Predicted')\n",
    "    ax.plot(ref_df, label='Actual')\n",
    "    fig.savefig('jaipur_pred_images/' + str(day_offset) + '.png')   # save the figure to file\n",
    "    plt.close(fig) \n"
   ]
  },
  {
   "cell_type": "code",
   "execution_count": null,
   "metadata": {},
   "outputs": [],
   "source": [
    "error_list.pop(-1)"
   ]
  },
  {
   "cell_type": "code",
   "execution_count": null,
   "metadata": {},
   "outputs": [],
   "source": [
    "corr_list.pop(-1)"
   ]
  },
  {
   "cell_type": "code",
   "execution_count": null,
   "metadata": {},
   "outputs": [],
   "source": [
    "fig, axs1 = plt.subplots()\n",
    "color = 'tab:red'\n",
    "axs1.set_ylabel('Error in %', color=color)\n",
    "axs1.set_xlabel('Day Number')\n",
    "axs1.set_title('Avg Error=' + str(np.mean(error_list)) + ' Avg Corr=' + str(np.mean(corr_list)))\n",
    "axs1.plot(error_list, color=color)\n",
    "axs1.tick_params(axis='y', labelcolor=color)\n",
    "\n",
    "color = 'tab:blue'\n",
    "axs2 = axs1.twinx()\n",
    "axs2.set_ylabel('Correlation between Actual and predicted value', color=color)\n",
    "axs2.plot(corr_list, color=color)\n",
    "axs2.tick_params(axis='y', labelcolor=color)\n",
    "\n",
    "plt.show()"
   ]
  },
  {
   "cell_type": "code",
   "execution_count": null,
   "metadata": {},
   "outputs": [],
   "source": []
  }
 ],
 "metadata": {
  "kernelspec": {
   "display_name": "Python 3",
   "language": "python",
   "name": "python3"
  },
  "language_info": {
   "codemirror_mode": {
    "name": "ipython",
    "version": 3
   },
   "file_extension": ".py",
   "mimetype": "text/x-python",
   "name": "python",
   "nbconvert_exporter": "python",
   "pygments_lexer": "ipython3",
   "version": "3.6.5"
  }
 },
 "nbformat": 4,
 "nbformat_minor": 2
}
